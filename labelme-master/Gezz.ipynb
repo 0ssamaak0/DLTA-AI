{
 "cells": [
  {
   "cell_type": "code",
   "execution_count": null,
   "metadata": {
    "vscode": {
     "languageId": "plaintext"
    }
   },
   "outputs": [],
   "source": [
    "def handle_right_click(self, menu):\n",
    "    if self.editing():\n",
    "        setEnabledd = True\n",
    "    else:\n",
    "        setEnabledd = False\n",
    "    try:\n",
    "        if menu.actions()[8].text() == \"&Interpolate\":\n",
    "            menu.actions()[8].setEnabled(setEnabledd)\n",
    "        if menu.actions()[9].text() == \"&Mark as key\":\n",
    "            menu.actions()[9].setEnabled(setEnabledd)\n",
    "        if menu.actions()[10].text() == \"&Scale\":\n",
    "            menu.actions()[10].setEnabled(setEnabledd)\n",
    "    except:\n",
    "        pass\n",
    "    return menu"
   ]
  },
  {
   "cell_type": "code",
   "execution_count": null,
   "metadata": {
    "vscode": {
     "languageId": "plaintext"
    }
   },
   "outputs": [],
   "source": []
  }
 ],
 "metadata": {
  "kernelspec": {
   "display_name": "auto_annotate",
   "language": "python",
   "name": "python3"
  },
  "language_info": {
   "codemirror_mode": {
    "name": "ipython",
    "version": 3
   },
   "file_extension": ".py",
   "mimetype": "text/x-python",
   "name": "python",
   "nbconvert_exporter": "python",
   "pygments_lexer": "ipython3",
   "version": "3.8.16"
  },
  "orig_nbformat": 4
 },
 "nbformat": 4,
 "nbformat_minor": 2
}
