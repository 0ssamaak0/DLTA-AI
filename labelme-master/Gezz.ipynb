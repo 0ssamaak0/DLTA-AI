{
 "cells": [
  {
   "cell_type": "code",
   "execution_count": 5,
   "metadata": {},
   "outputs": [
    {
     "data": {
      "text/plain": [
       "[[150, 175], [150, 225], [249, 175], [249, 225]]"
      ]
     },
     "execution_count": 5,
     "metadata": {},
     "output_type": "execute_result"
    }
   ],
   "source": [
    "[{'tracker_id': 2, 'bbox': [548, 686, 964, 878], 'confidence': 1.0, 'class_name': 'car', 'class_id': 2, 'segment': [[695, 704], [649, 724], [600, 735], [556, 753], [548, 807], [586, 838], [637, 833], [684, 846], [735, 854], [778, 877], [827, 872], [875, 859], [922, 844], [959, 809], [943, 758], [897, 738], [853, 713], [797, 702], [739, 686], [695, 704]],,,,,,,}, \n",
    " {'tracker_id': 2, 'bbox': [533, 683, 946, 875], 'confidence': 1.0, 'class_name': 'car', 'class_id': 2, 'segment': [[678, 701], [632, 721], [584, 732], [541, 750], [533, 804], [570, 834], [621, 829], [667, 842], [717, 850], [759, 873], [807, 868], [854, 855], [900, 840], [937, 806], [921, 755], [876, 735], [833, 710], [778, 699], [721, 683], [678, 701]],}, \n",
    " {'tracker_id': 2, 'bbox': [518, 681, 929, 872], 'confidence': 1.0, 'class_name': 'car', 'class_id': 2, 'segment': [[660, 699], [615, 719], [568, 730], [526, 748], [518, 802], [554, 831], [604, 826], [650, 839], [699, 847], [740, 870], [787, 865], [833, 852], [878, 837], [915, 804], [899, 753], [855, 733], [813, 708], [759, 697], [703, 681], [660, 699]],}, \n",
    " {'tracker_id': 2, 'bbox': [518, 681, 929, 872], 'confidence': 1.0, 'class_name': 'car', 'class_id': 2, 'segment': [[660, 699], [615, 719], [568, 730], [526, 748], [518, 802], [554, 831], [604, 826], [650, 839], [699, 847], [740, 870], [787, 865], [833, 852], [878, 837], [915, 804], [899, 753], [855, 733], [813, 708], [759, 697], [703, 681], [660, 699]],}, \n",
    " {'tracker_id': 2, 'bbox': [505, 681, 912, 869], 'confidence': 1.0, 'class_name': 'car', 'class_id': 2, 'segment': [[653, 696], [609, 716], [560, 726], [514, 744], [505, 793], [541, 825], [592, 817], [641, 834], [689, 845], [731, 869], [777, 859], [827, 851], [874, 836], [912, 805], [896, 756], [854, 731], [813, 707], [751, 701], [695, 681], [653, 696]],}]"
   ]
  },
  {
   "cell_type": "code",
   "execution_count": 1,
   "metadata": {},
   "outputs": [],
   "source": [
    "import numpy as np\n",
    "import cv2\n",
    "\n",
    "def centerOFmass(self, points):\n",
    "    return np.array([np.mean(points[:, 0]), np.mean(points[:, 1])])\n",
    "\n",
    "def addPoints(shape):\n",
    "    res = shape\n",
    "    for i in range(len(shape) - 1):\n",
    "       for j in range(1, 10):\n",
    "            dif = shape[i + 1] - shape[i]\n",
    "            res.append(shape[i] + dif * j / 10)\n",
    "    return res\n",
    "\n",
    "def interpolate(shape1, shape2):\n",
    "    shape1_center = centerOFmass(shape1)\n",
    "    shape1_org = shape1 - shape1_center\n",
    "    shape2_center = centerOFmass(shape2)\n",
    "    shape2_org = shape2 - shape2_center\n",
    "    \n",
    "    shape1_big = addPoints(shape1_org)\n",
    "    shape2_big = addPoints(shape2_org)\n",
    "    \n",
    "    shape1_slope = np.arctan2(shape1_big[:, 1], shape1_big[:, 0])\n",
    "    shape2_slope = np.arctan2(shape2_big[:, 1], shape2_big[:, 0])\n",
    "    \n",
    "    shape1_alligned = np.array()\n",
    "    shape2_alligned = np.array()\n",
    "    \n",
    "    for i in range(len(shape1_slope)):\n",
    "        x1 = np.argmax(shape2_slope)\n",
    "        x2 = np.argmin(shape2_slope)\n",
    "        shape1_alligned.append(shape1_big[x1])\n",
    "        shape2_alligned.append(shape2_big[x2])\n",
    "        shape1_big.pop(x1)\n",
    "        shape2_big.pop(x2)\n",
    "        shape1_slope.pop(x1)\n",
    "        shape2_slope.pop(x2)\n",
    "    \n",
    "    shape1_alligned = shape1_alligned + shape1_center\n",
    "    shape2_alligned = shape2_alligned + shape2_center\n",
    "    \n",
    "    return (shape1_alligned, shape2_alligned)\n",
    "    "
   ]
  },
  {
   "cell_type": "code",
   "execution_count": 6,
   "metadata": {},
   "outputs": [
    {
     "data": {
      "text/plain": [
       "[[713, 707],\n",
       " [667, 727],\n",
       " [617, 738],\n",
       " [572, 756],\n",
       " [564, 810],\n",
       " [602, 842],\n",
       " [654, 837],\n",
       " [702, 850],\n",
       " [754, 858],\n",
       " [798, 881],\n",
       " [848, 876],\n",
       " [897, 863],\n",
       " [945, 848],\n",
       " [982, 812],\n",
       " [966, 761],\n",
       " [919, 741],\n",
       " [874, 716],\n",
       " [817, 705],\n",
       " [758, 689],\n",
       " [713, 707]]"
      ]
     },
     "execution_count": 6,
     "metadata": {},
     "output_type": "execute_result"
    }
   ],
   "source": [
    "\n",
    "frames = [[[713, 707], [667, 727], [617, 738], [572, 756], [564, 810], [602, 842], [654, 837], [702, 850], [754, 858], [798, 881], [848, 876], [897, 863], [945, 848], [982, 812], [966, 761], [919, 741], [874, 716], [817, 705], [758, 689], [713, 707]],\n",
    "\n",
    "[[722, 696], [677, 717], [628, 728], [580, 744], [544, 783], [571, 822], [616, 840], [670, 840], [721, 848], [768, 864], [813, 878], [861, 863], [911, 852], [953, 828], [958, 777], [919, 746], [875, 722], [830, 701], [771, 692], [722, 695]],\n",
    "\n",
    "[[699, 695], [653, 717], [604, 727], [557, 744], [532, 791], [566, 830], [614, 830], [665, 836], [714, 849], [759, 869], [806, 870], [857, 863], [903, 845], [941, 818], [935, 769], [895, 742], [852, 716], [805, 699], [745, 686], [698, 695]],\n",
    "\n",
    "[[674, 696], [629, 717], [580, 728], [533, 746], [510, 793], [549, 825], [596, 822], [646, 835], [696, 845], [741, 869], [791, 867], [842, 858], [888, 839], [923, 810], [919, 760], [875, 738], [835, 711], [779, 701], [720, 682], [674, 696]],\n",
    "\n",
    "[[653, 696], [609, 716], [560, 726], [514, 744], [505, 793], [541, 825], [592, 817], [641, 834], [689, 845], [731, 869], [777, 859], [827, 851], [874, 836], [912, 805], [896, 756], [854, 731], [813, 707], [751, 701], [695, 681], [653, 696]],\n",
    "\n",
    "[[630, 696], [585, 716], [536, 726], [495, 750], [496, 800], [537, 826], [586, 823], [636, 831], [684, 843], [726, 872], [772, 853], [823, 847], [868, 828], [894, 789], [873, 747], [829, 724], [789, 698], [730, 691], [673, 677], [630, 696]],\n",
    "\n",
    "[[639, 684], [595, 704], [547, 716], [501, 732], [472, 770], [504, 811], [549, 810], [598, 825], [647, 833], [690, 857], [738, 858], [787, 850], [832, 833], [872, 805], [869, 757], [828, 732], [788, 705], [742, 687], [684, 673], [639, 684]],\n",
    "\n",
    "[[615, 684], [571, 703], [524, 717], [478, 732], [461, 777], [497, 812], [547, 805], [595, 821], [643, 832], [683, 857], [728, 849], [777, 840], [822, 824], [860, 795], [849, 748], [807, 723], [766, 697], [715, 684], [658, 669], [615, 684]],\n",
    "\n",
    "[[596, 684], [552, 701], [506, 711], [463, 731], [451, 778], [488, 809], [537, 810], [584, 818], [632, 827], [671, 854], [715, 842], [765, 839], [809, 822], [843, 790], [832, 740], [787, 719], [747, 692], [694, 681], [638, 666], [596, 683]],\n",
    "\n",
    "[[573, 684], [528, 698], [482, 711], [442, 737], [447, 787], [487, 814], [531, 807], [579, 815], [624, 828], [664, 852], [707, 834], [756, 827], [800, 813], [829, 779], [809, 734], [767, 713], [724, 693], [667, 682], [614, 666], [573, 684]],\n",
    "\n",
    "[[581, 671], [539, 691], [493, 703], [448, 716], [423, 756], [451, 797], [498, 792], [545, 809], [592, 820], [630, 846], [675, 836], [723, 831], [767, 816], [806, 791], [801, 746], [765, 720], [726, 693], [682, 675], [625, 662], [581, 671]],\n",
    "\n",
    "[[555, 671], [512, 690], [467, 702], [424, 717], [417, 769], [449, 800], [495, 797], [541, 807], [586, 818], [624, 848], [670, 834], [715, 824], [761, 813], [795, 778], [782, 732], [740, 709], [700, 684], [651, 672], [597, 657], [555, 672]],\n",
    "\n",
    "[[531, 672], [489, 689], [443, 699], [406, 726], [414, 774], [451, 796], [496, 798], [541, 808], [584, 824], [623, 840], [665, 822], [712, 817], [756, 803], [776, 764], [758, 722], [717, 702], [679, 675], [624, 667], [571, 653], [530, 671]],\n",
    "\n",
    "[[507, 672], [465, 689], [420, 698], [387, 732], [401, 780], [444, 785], [491, 794], [535, 806], [576, 825], [616, 830], [662, 825], [706, 813], [748, 797], [757, 754], [733, 718], [696, 696], [649, 683], [594, 667], [544, 653], [507, 672]],\n",
    "\n",
    "[[515, 659], [473, 675], [430, 687], [390, 704], [376, 752], [408, 786], [452, 785], [497, 794], [541, 807], [579, 833], [623, 819], [670, 814], [713, 801], [747, 768], [730, 725], [694, 700], [657, 672], [610, 663], [557, 649], [515, 660]],\n",
    "\n",
    "[[492, 660], [450, 674], [406, 687], [370, 712], [375, 759], [410, 783], [455, 782], [498, 795], [537, 812], [580, 822], [624, 812], [668, 804], [711, 791], [730, 751], [708, 714], [669, 692], [635, 664], [584, 656], [532, 643], [492, 660]],\n",
    "\n",
    "[[470, 660], [429, 674], [387, 686], [354, 714], [366, 760], [404, 779], [451, 779], [494, 791], [529, 815], [569, 816], [614, 810], [658, 802], [701, 787], [710, 743], [689, 707], [651, 684], [612, 663], [559, 652], [509, 640], [471, 660]],\n",
    "\n",
    "[[483, 648], [441, 662], [400, 679], [358, 692], [340, 735], [368, 773], [410, 770], [453, 780], [495, 795], [532, 820], [574, 810], [618, 800], [660, 788], [693, 764], [690, 720], [654, 696], [618, 668], [578, 651], [524, 640], [483, 648]],\n",
    "\n",
    "[[462, 648], [420, 661], [380, 678], [339, 692], [334, 739], [363, 770], [406, 769], [448, 779], [488, 796], [527, 819], [567, 800], [613, 797], [655, 785], [687, 754], [671, 710], [633, 686], [599, 659], [553, 650], [501, 637], [462, 648]],\n",
    "\n",
    "[[435, 647], [395, 666], [354, 677], [318, 701], [325, 748], [362, 768], [409, 767], [450, 780], [486, 801], [524, 804], [568, 799], [610, 788], [652, 777], [669, 738], [649, 697], [610, 676], [573, 657], [521, 647], [472, 632], [434, 647]],\n",
    "\n",
    "[[410, 647], [372, 665], [331, 679], [302, 709], [321, 752], [361, 762], [403, 766], [444, 777], [479, 803], [519, 800], [562, 792], [603, 779], [643, 765], [648, 726], [625, 691], [589, 665], [548, 651], [495, 639], [447, 628], [411, 647]],\n",
    "\n",
    "[[420, 635], [381, 653], [341, 669], [303, 682], [294, 729], [327, 753], [371, 758], [412, 770], [454, 784], [488, 801], [529, 787], [572, 780], [614, 771], [641, 738], [625, 698], [589, 674], [556, 648], [507, 641], [457, 624], [420, 635]],\n",
    "\n",
    "[[402, 636], [363, 653], [324, 668], [288, 686], [291, 730], [322, 757], [366, 753], [405, 768], [441, 786], [479, 792], [522, 785], [565, 778], [605, 765], [630, 730], [608, 687], [570, 666], [537, 642], [488, 633], [439, 620], [402, 636]],\n",
    "\n",
    "[[377, 635], [341, 657], [302, 669], [275, 702], [298, 741], [337, 742], [376, 756], [414, 771], [449, 796], [489, 782], [532, 777], [572, 765], [609, 746], [617, 708], [585, 684], [550, 659], [510, 644], [459, 630], [413, 618], [378, 636]],\n",
    "\n",
    "[[393, 624], [355, 639], [318, 656], [279, 668], [264, 712], [293, 742], [336, 744], [375, 755], [412, 771], [449, 789], [488, 775], [529, 769], [569, 759], [597, 730], [585, 690], [549, 668], [518, 642], [479, 626], [430, 613], [393, 623]],\n",
    "\n",
    "[[374, 623], [337, 638], [300, 656], [265, 670], [261, 714], [292, 741], [334, 743], [373, 754], [405, 777], [442, 780], [483, 773], [524, 765], [562, 752], [581, 722], [569, 683], [534, 663], [502, 636], [459, 625], [412, 612], [374, 623]],\n",
    "\n",
    "[[351, 624], [314, 639], [277, 653], [246, 678], [255, 721], [289, 739], [329, 743], [367, 754], [401, 776], [440, 774], [478, 763], [518, 756], [559, 746], [561, 708], [545, 672], [512, 648], [479, 627], [431, 619], [385, 608], [350, 624]],\n",
    "\n",
    "[[330, 623], [295, 644], [257, 655], [230, 686], [248, 725], [286, 732], [322, 741], [360, 753], [393, 776], [429, 761], [472, 762], [511, 753], [548, 739], [547, 699], [528, 666], [494, 644], [455, 633], [407, 616], [363, 606], [330, 623]],\n",
    "\n",
    "[[339, 612], [303, 626], [270, 647], [235, 663], [234, 708], [265, 732], [306, 732], [342, 747], [375, 768], [411, 765], [449, 755], [490, 754], [527, 740], [535, 705], [523, 671], [492, 647], [460, 623], [420, 613], [374, 600], [339, 612]],\n",
    "\n",
    "[[317, 611], [284, 631], [249, 644], [221, 670], [228, 711], [264, 719], [301, 728], [336, 744], [369, 767], [406, 754], [448, 756], [484, 742], [519, 728], [531, 689], [504, 660], [472, 635], [441, 615], [395, 608], [351, 596], [317, 611]],\n",
    "\n",
    "[[303, 612], [270, 630], [234, 642], [208, 673], [219, 711], [256, 718], [290, 729], [326, 740], [358, 765], [394, 750], [435, 749], [472, 742], [506, 726], [520, 689], [493, 658], [464, 635], [420, 628], [375, 607], [334, 595], [303, 612]],\n",
    "\n",
    "[[314, 600], [278, 612], [248, 632], [210, 640], [195, 684], [219, 714], [259, 716], [295, 729], [328, 749], [363, 755], [401, 746], [440, 742], [476, 729], [505, 702], [492, 666], [463, 640], [433, 614], [395, 602], [350, 590], [315, 600]],\n",
    "\n",
    "[[294, 600], [260, 615], [227, 633], [198, 654], [200, 694], [229, 711], [267, 719], [302, 732], [333, 756], [369, 743], [409, 742], [445, 732], [478, 718], [492, 684], [472, 651], [441, 630], [412, 607], [370, 598], [327, 586], [294, 600]],\n",
    "\n",
    "[[275, 599], [243, 617], [210, 632], [183, 658], [195, 695], [229, 707], [264, 716], [298, 729], [329, 750], [365, 741], [401, 732], [440, 730], [473, 715], [476, 677], [458, 647], [426, 627], [392, 610], [348, 596], [307, 585], [275, 599]],\n",
    "\n",
    "[[254, 600], [223, 618], [190, 633], [170, 665], [190, 701], [229, 703], [262, 716], [294, 735], [328, 741], [364, 733], [402, 730], [437, 720], [466, 700], [459, 663], [434, 635], [407, 611], [370, 602], [325, 590], [285, 582], [254, 600]],\n",
    "\n",
    "[[266, 588], [234, 602], [203, 621], [175, 639], [176, 679], [204, 698], [240, 705], [273, 719], [301, 743], [336, 731], [375, 731], [408, 719], [444, 711], [454, 673], [439, 640], [409, 616], [380, 596], [341, 587], [299, 575], [267, 588]]]\n",
    "\n",
    "frames[0]"
   ]
  },
  {
   "cell_type": "code",
   "execution_count": 12,
   "metadata": {},
   "outputs": [
    {
     "data": {
      "text/plain": [
       "True"
      ]
     },
     "execution_count": 12,
     "metadata": {},
     "output_type": "execute_result"
    }
   ],
   "source": [
    "img = cv2.imread('test_img_1.jpg')\n",
    "original_img = img.copy()\n",
    "pts = np.array(frames[0], np.int32)\n",
    "cv2.fillConvexPoly(img, points=np.array([[0,0], []]), color=(0,0,0))\n",
    "alpha = 0.95\n",
    "original_img = cv2.addWeighted(original_img, alpha, img, 1 - alpha, 0)\n",
    "cv2.imwrite('test_img_1_res.jpg', original_img)"
   ]
  },
  {
   "cell_type": "code",
   "execution_count": null,
   "metadata": {},
   "outputs": [],
   "source": []
  },
  {
   "cell_type": "code",
   "execution_count": null,
   "metadata": {},
   "outputs": [],
   "source": [
    "\n",
    "    def delete_ids_from_all_frames(self, deleted_ids, mode = 'across all frames (previous and next)'):\n",
    "        json_file_name = f'{self.CURRENT_VIDEO_PATH}/{self.CURRENT_VIDEO_NAME}_tracking_results.json'\n",
    "        if not os.path.exists(json_file_name):\n",
    "            with open(json_file_name, 'w') as jf:\n",
    "                json.dump([], jf)\n",
    "            jf.close()\n",
    "        with open(json_file_name, 'r') as jf:\n",
    "            listObj = json.load(jf)\n",
    "        jf.close()\n",
    "        for i in range(len(listObj)):\n",
    "            frame_idx = listObj[i]['frame_idx']\n",
    "            for object_ in listObj[i]['frame_data']:\n",
    "                if mode == 'this frame and previous frames' and frame_idx > self.INDEX_OF_CURRENT_FRAME :\n",
    "                    continue\n",
    "                if mode == 'this frame and next frames' and frame_idx < self.INDEX_OF_CURRENT_FRAME :\n",
    "                    continue\n",
    "                if mode == 'this frame only' and frame_idx != self.INDEX_OF_CURRENT_FRAME :\n",
    "                    continue\n",
    "                id = str(object_['tracker_id'])\n",
    "                if id in deleted_ids:\n",
    "                    listObj[i]['frame_data'].remove(object_)\n",
    "                    if mode == 'this frame and previous frames' :\n",
    "                        self.CURRENT_ANNOATAION_TRAJECTORIES['id_'+id][0 : self.INDEX_OF_CURRENT_FRAME] = [(-1, -1)] * self.INDEX_OF_CURRENT_FRAME\n",
    "                    if mode == 'this frame and next frames' :\n",
    "                        self.CURRENT_ANNOATAION_TRAJECTORIES['id_'+id][self.INDEX_OF_CURRENT_FRAME - 1:] = [(-1, -1)] * (self.TOTAL_VIDEO_FRAMES - self.INDEX_OF_CURRENT_FRAME + 1)\n",
    "                    if mode == 'this frame only' :\n",
    "                        self.CURRENT_ANNOATAION_TRAJECTORIES['id_'+id][self.INDEX_OF_CURRENT_FRAME - 1] = (-1, -1)\n",
    "                    else:\n",
    "                        self.CURRENT_ANNOATAION_TRAJECTORIES['id_'+str(id)] = [(-1, -1)] * self.TOTAL_VIDEO_FRAMES\n",
    "        listObj = sorted(listObj, key=lambda k: k['frame_idx'])\n",
    "        with open(json_file_name, 'w') as json_file:\n",
    "            json.dump(listObj, json_file ,\n",
    "                      indent=4,\n",
    "                      separators=(',', ': '))\n",
    "        json_file.close()\n",
    "        "
   ]
  },
  {
   "cell_type": "code",
   "execution_count": null,
   "metadata": {},
   "outputs": [],
   "source": []
  },
  {
   "cell_type": "code",
   "execution_count": null,
   "metadata": {},
   "outputs": [],
   "source": []
  },
  {
   "cell_type": "code",
   "execution_count": null,
   "metadata": {},
   "outputs": [],
   "source": [
    "def draw_trajectories(self ,img, shapes):\n",
    "        for shape in shapes:\n",
    "            id = shape[\"group_id\"]\n",
    "            pts = self.CURRENT_ANNOATAION_TRAJECTORIES['id_'+str(id)]\n",
    "            color = self.CURRENT_ANNOATAION_TRAJECTORIES['id_color_'+str(id)]\n",
    "            for i in range(1, len(pts)):\n",
    "                thickness = 2\n",
    "                thickness = int(np.sqrt(30 / float(i + 1)) * 2)\n",
    "                if pts[i - 1] is None or pts[i] is None:\n",
    "                    continue\n",
    "                cv2.line(img, pts[i - 1], pts[i], color, thickness)\n",
    "                    \n",
    "        return img\n",
    "    \n",
    "    \n",
    "    \n",
    "    \n",
    "    \n",
    "    \n",
    "    \n",
    "    if self.CURRENT_ANNOATAION_FLAGS['traj']:   \n",
    "                center = ( int((x1 + x2) / 2), int((y1 + y2) / 2) )\n",
    "                try:\n",
    "                    self.CURRENT_ANNOATAION_TRAJECTORIES['id_'+str(id)].appendleft(center)\n",
    "                except:\n",
    "                    self.CURRENT_ANNOATAION_TRAJECTORIES['id_'+str(id)] = collections.deque(maxlen = 30)\n",
    "                    self.CURRENT_ANNOATAION_TRAJECTORIES['id_'+str(id)].appendleft(center)\n",
    "                    self.CURRENT_ANNOATAION_TRAJECTORIES['id_color_'+str(id)] = color"
   ]
  },
  {
   "cell_type": "code",
   "execution_count": null,
   "metadata": {},
   "outputs": [],
   "source": []
  },
  {
   "cell_type": "code",
   "execution_count": 23,
   "metadata": {},
   "outputs": [
    {
     "data": {
      "text/plain": [
       "{'id_5': [(5, -2), (-1, -1), (-1, -1), (-1, -1), (-1, -1), (5, -2), (5, -2)]}"
      ]
     },
     "execution_count": 23,
     "metadata": {},
     "output_type": "execute_result"
    }
   ],
   "source": [
    "x = {}\n",
    "y = 7.5\n",
    "id = '5'\n",
    "center = (5, -2)\n",
    "\n",
    "x['id_'+str(id)] = [(-1, - 1)] * int(y)\n",
    "x['id_'+str(id)][1 - 1] = center\n",
    "x['id_'+str(id)][7 - 1] = center\n",
    "x['id_'+str(id)][6 - 1] = center\n",
    "x"
   ]
  },
  {
   "cell_type": "code",
   "execution_count": 24,
   "metadata": {},
   "outputs": [
    {
     "name": "stdout",
     "output_type": "stream",
     "text": [
      "[(5, -2), (-1, -1), (-1, -1), (-1, -1), (-1, -1), (5, -2), (5, -2)]\n",
      "6\n",
      "5\n",
      "4\n"
     ]
    }
   ],
   "source": [
    "pts = x['id_'+str(id)][max(7 - 30, 0) : 7] \n",
    "print(pts)\n",
    "for i in range(len(pts) - 1, 0, - 1):\n",
    "    print(i)\n",
    "    if pts[i - 1] is None or pts[i] is None :\n",
    "        print('here') \n",
    "    if pts[i]==(-1, - 1) :\n",
    "        break"
   ]
  },
  {
   "cell_type": "code",
   "execution_count": 17,
   "metadata": {},
   "outputs": [
    {
     "name": "stdout",
     "output_type": "stream",
     "text": [
      "[[ 1  2]\n",
      " [ 3  4]\n",
      " [ 5  6]\n",
      " [ 7  8]\n",
      " [ 2  3]\n",
      " [ 4  5]\n",
      " [ 6  7]\n",
      " [ 8  9]\n",
      " [-1 -2]]\n"
     ]
    }
   ],
   "source": [
    "import numpy as np\n",
    "p = [1, 2, 3, 4, 5, 6, 7, 8, 2, 3, 4, 5, 6, 7, 8, 9, -1, -2]\n",
    "points =np.array( [ [x, y] for x, y in zip(p[0::2], p[1::2]) ])\n",
    "print(points)"
   ]
  },
  {
   "cell_type": "code",
   "execution_count": 21,
   "metadata": {},
   "outputs": [
    {
     "data": {
      "text/plain": [
       "(0, 229, 0)"
      ]
     },
     "execution_count": 21,
     "metadata": {},
     "output_type": "execute_result"
    }
   ],
   "source": [
    "color = (0, 255, 0)\n",
    "color = tuple(int(0.9 * x) for x in color)\n",
    "color"
   ]
  },
  {
   "cell_type": "code",
   "execution_count": 42,
   "metadata": {},
   "outputs": [
    {
     "data": {
      "text/plain": [
       "'احمد خالد محمد اسماعيل الجزار'"
      ]
     },
     "execution_count": 42,
     "metadata": {},
     "output_type": "execute_result"
    }
   ],
   "source": [
    "def convert(text):\n",
    "    if (text[0] > 'a' and text[0] < 'z') or (text[0] > 'A' and text[0] < 'Z'):\n",
    "        text = text.replace('q', 'ض')\n",
    "        text = text.replace('w', 'ص')\n",
    "        text = text.replace('e', 'ث')\n",
    "        text = text.replace('r', 'ق')\n",
    "        text = text.replace('t', 'ف')\n",
    "        text = text.replace('y', 'غ')\n",
    "        text = text.replace('u', 'ع')\n",
    "        text = text.replace('i', 'ه')\n",
    "        text = text.replace('o', 'خ')\n",
    "        text = text.replace('p', 'ح')\n",
    "        text = text.replace('[', 'ج')\n",
    "        text = text.replace(']', 'د')\n",
    "        text = text.replace('a', 'ش')\n",
    "        text = text.replace('s', 'س')\n",
    "        text = text.replace('d', 'ي')\n",
    "        text = text.replace('f', 'ب')\n",
    "        text = text.replace('g', 'ل')\n",
    "        text = text.replace('h', 'ا')\n",
    "        text = text.replace('j', 'ت')\n",
    "        text = text.replace('k', 'ن')\n",
    "        text = text.replace('l', 'م')\n",
    "        text = text.replace(';', 'ك')\n",
    "        text = text.replace(\"'\", 'ط')\n",
    "        text = text.replace('z', 'ئ')\n",
    "        text = text.replace('x', 'ء')\n",
    "        text = text.replace('c', 'ؤ')\n",
    "        text = text.replace('v', 'ر')\n",
    "        text = text.replace('b', 'لا')\n",
    "        text = text.replace('n', 'ى')\n",
    "        text = text.replace('m', 'ة')\n",
    "        text = text.replace(',', 'و')\n",
    "        text = text.replace('.', 'ز')\n",
    "        text = text.replace('/', 'ظ')\n",
    "        text = text.replace('Q', ' َ')\n",
    "        text = text.replace('W', ' ً')\n",
    "        text = text.replace('E', ' ُ')\n",
    "        text = text.replace('R', ' ٌ')\n",
    "        text = text.replace('T', ' ْ')\n",
    "        text = text.replace('Y', ' ّ')\n",
    "        text = text.replace('U', ' ٍ')\n",
    "        text = text.replace('I', ' ـ')\n",
    "        text = text.replace('O', ' ِ')\n",
    "        text = text.replace('P', ' ٓ')\n",
    "        text = text.replace('{', ' ٔ')\n",
    "        text = text.replace('}', ' ٕ')\n",
    "        text = text.replace('A', ' ٖ')\n",
    "        text = text.replace('S', ' ٗ')\n",
    "        text = text.replace('D', ' ٘')\n",
    "        text = text.replace('F', ' ٙ')\n",
    "        text = text.replace('G', ' ٚ')\n",
    "        text = text.replace('H', ' ٛ')\n",
    "        text = text.replace('J', ' ٜ')\n",
    "        text = text.replace('K', ' ٝ')\n",
    "        text = text.replace('L', ' ٞ')\n",
    "        text = text.replace(':', ' ٟ')\n",
    "        text = text.replace('\"', ' ٠')\n",
    "        text = text.replace('Z', ' ١')\n",
    "        text = text.replace('X', ' ٢')\n",
    "        text = text.replace('C', ' ٣')\n",
    "        text = text.replace('V', ' ٤')\n",
    "        text = text.replace('B', ' ٥')\n",
    "        text = text.replace('N', ' ٦')\n",
    "        text = text.replace('M', ' ٧')\n",
    "        text = text.replace('<', ' ٨')\n",
    "        text = text.replace('>', ' ٩')\n",
    "        text = text.replace('?', ' ٪')\n",
    "        \n",
    "    else:\n",
    "        text = text.replace('ض', 'q')\n",
    "        text = text.replace('ص', 'w')\n",
    "        text = text.replace('ث', 'e')\n",
    "        text = text.replace('ق', 'r')\n",
    "        text = text.replace('ف', 't')\n",
    "        text = text.replace('غ', 'y')\n",
    "        text = text.replace('ع', 'u')\n",
    "        text = text.replace('ه', 'i')\n",
    "        text = text.replace('خ', 'o')\n",
    "        text = text.replace('ح', 'p')\n",
    "        text = text.replace('ج', '[')\n",
    "        text = text.replace('د', ']')\n",
    "        text = text.replace('ش', 'a')\n",
    "        text = text.replace('س', 's')\n",
    "        text = text.replace('ي', 'd')\n",
    "        text = text.replace('ب', 'f')\n",
    "        text = text.replace('ل', 'g')\n",
    "        text = text.replace('ا', 'h')\n",
    "        text = text.replace('ت', 'j')\n",
    "        text = text.replace('ن', 'k')\n",
    "        text = text.replace('م', 'l')\n",
    "        text = text.replace('ك', ';')\n",
    "        text = text.replace('ط', \"'\")\n",
    "        text = text.replace('ئ', 'z')\n",
    "        text = text.replace('ء', 'x')\n",
    "        text = text.replace('ؤ', 'c')\n",
    "        text = text.replace('ر', 'v')\n",
    "        text = text.replace('لا', 'b')\n",
    "        text = text.replace('ى', 'n')\n",
    "        text = text.replace('ة', 'm')\n",
    "        text = text.replace('و', ',')\n",
    "        text = text.replace('ز', '.')\n",
    "        text = text.replace('ظ', '/')\n",
    "        text = text.replace(' َ', 'Q')\n",
    "        text = text.replace(' ً', 'W')\n",
    "        text = text.replace(' ُ', 'E')\n",
    "        text = text.replace(' ٌ', 'R')\n",
    "        text = text.replace(' ْ', 'T')\n",
    "        text = text.replace(' ّ', 'Y')\n",
    "        text = text.replace(' ٍ', 'U')\n",
    "        text = text.replace(' ـ', 'I')\n",
    "        text = text.replace(' ِ', 'O')\n",
    "        text = text.replace(' ٓ', 'P')\n",
    "        text = text.replace(' ٔ', '{')\n",
    "        text = text.replace(' ٕ', '}')\n",
    "        text = text.replace(' ٖ', 'A')\n",
    "        text = text.replace(' ٗ', 'S')\n",
    "        text = text.replace(' ٘', 'D')\n",
    "        text = text.replace(' ٙ', 'F')\n",
    "        text = text.replace(' ٚ', 'G')\n",
    "        text = text.replace(' ٛ', 'H')\n",
    "        text = text.replace(' ٜ', 'J')\n",
    "        text = text.replace(' ٝ', 'K')\n",
    "        text = text.replace(' ٞ', 'L')\n",
    "        text = text.replace(' ٟ', ':')\n",
    "        text = text.replace(' ٠', '\"')\n",
    "        text = text.replace(' ١', 'Z')\n",
    "        text = text.replace(' ٢', 'X')\n",
    "        text = text.replace(' ٣', 'C')\n",
    "        text = text.replace(' ٤', 'V')\n",
    "        text = text.replace(' ٥', 'B')\n",
    "        text = text.replace(' ٦', 'N')\n",
    "        text = text.replace(' ٧', 'M')\n",
    "        text = text.replace(' ٨', '<')\n",
    "        text = text.replace(' ٩', '>')\n",
    "        text = text.replace(' ٪', '?')\n",
    "                \n",
    "    return text\n",
    "        \n",
    "convert(\"hpl] ohg] lpl] hslhudg hg[.hv\")"
   ]
  },
  {
   "cell_type": "code",
   "execution_count": 31,
   "metadata": {},
   "outputs": [
    {
     "ename": "TypeError",
     "evalue": "'str' object does not support item assignment",
     "output_type": "error",
     "traceback": [
      "\u001b[1;31m---------------------------------------------------------------------------\u001b[0m",
      "\u001b[1;31mTypeError\u001b[0m                                 Traceback (most recent call last)",
      "\u001b[1;32m<ipython-input-31-94f525323a3e>\u001b[0m in \u001b[0;36m<module>\u001b[1;34m\u001b[0m\n\u001b[0;32m      1\u001b[0m \u001b[0mtest\u001b[0m \u001b[1;33m=\u001b[0m \u001b[1;34m'qwerwq'\u001b[0m\u001b[1;33m\u001b[0m\u001b[1;33m\u001b[0m\u001b[0m\n\u001b[0;32m      2\u001b[0m \u001b[1;32mfor\u001b[0m \u001b[0ma\u001b[0m \u001b[1;32min\u001b[0m \u001b[0mtest\u001b[0m\u001b[1;33m:\u001b[0m\u001b[1;33m\u001b[0m\u001b[1;33m\u001b[0m\u001b[0m\n\u001b[1;32m----> 3\u001b[1;33m     \u001b[0mtest\u001b[0m\u001b[1;33m[\u001b[0m\u001b[1;36m0\u001b[0m\u001b[1;33m]\u001b[0m \u001b[1;33m=\u001b[0m \u001b[1;34m'Q'\u001b[0m\u001b[1;33m\u001b[0m\u001b[1;33m\u001b[0m\u001b[0m\n\u001b[0m\u001b[0;32m      4\u001b[0m     \u001b[0mprint\u001b[0m\u001b[1;33m(\u001b[0m\u001b[0ma\u001b[0m\u001b[1;33m)\u001b[0m\u001b[1;33m\u001b[0m\u001b[1;33m\u001b[0m\u001b[0m\n",
      "\u001b[1;31mTypeError\u001b[0m: 'str' object does not support item assignment"
     ]
    }
   ],
   "source": [
    "test = 'qwerwq'\n",
    "for a in test:\n",
    "    test[0] = 'Q'\n",
    "    print(a)"
   ]
  },
  {
   "cell_type": "code",
   "execution_count": null,
   "metadata": {},
   "outputs": [],
   "source": []
  },
  {
   "cell_type": "code",
   "execution_count": null,
   "metadata": {},
   "outputs": [],
   "source": []
  },
  {
   "cell_type": "code",
   "execution_count": null,
   "metadata": {},
   "outputs": [],
   "source": []
  },
  {
   "cell_type": "code",
   "execution_count": 16,
   "metadata": {},
   "outputs": [],
   "source": [
    "from PyQt5 import QtGui, QtWidgets\n",
    "from PyQt5.QtWidgets import QFileDialog\n",
    "from PyQt5.QtWidgets import QApplication\n",
    "import csv\n",
    "from collections import namedtuple\n",
    "import sys\n",
    "import cv2\n",
    "import numpy as np\n",
    "\n",
    "\n",
    "def convert_QI_to_cv(self , incomingImage):\n",
    "    '''  Converts a QImage into an opencv MAT format  '''\n",
    "\n",
    "    incomingImage = incomingImage.convertToFormat(4)\n",
    "\n",
    "    width = incomingImage.width()\n",
    "    height = incomingImage.height()\n",
    "\n",
    "    ptr = incomingImage.bits()\n",
    "    ptr.setsize(incomingImage.byteCount())\n",
    "    arr = np.array(ptr).reshape(height, width, 4)  #  Copies the data\n",
    "    return arr\n",
    "\n",
    "def convert_cv_to_qt(self ,cv_img):\n",
    "    rgb_image = cv2.cvtColor(cv_img, cv2.COLOR_BGR2RGB)\n",
    "    h, w, ch = rgb_image.shape\n",
    "    bytes_per_line = ch * w\n",
    "    convert_to_Qt_format = QtGui.QImage(rgb_image.data, w, h, bytes_per_line, QtGui.QImage.Format_RGB888)\n",
    "    return convert_to_Qt_format\n",
    "\n",
    "def draw_bb_id(self ,image, x, y , w, h, id,label, color=(0, 0, 255), thickness=1):\n",
    "    if self.CURRENT_ANNOATAION_FLAGS['bbox']:\n",
    "        image = cv2.rectangle(image, (x, y), (x+w, y+h), color, thickness)\n",
    "        \n",
    "        \n",
    "    if self.CURRENT_ANNOATAION_FLAGS['id']  or self.CURRENT_ANNOATAION_FLAGS['class']:\n",
    "        if self.CURRENT_ANNOATAION_FLAGS['id']  and self.CURRENT_ANNOATAION_FLAGS['class']:\n",
    "            text = f'#{id} {label}'\n",
    "        if self.CURRENT_ANNOATAION_FLAGS['id']  and not self.CURRENT_ANNOATAION_FLAGS['class']:\n",
    "            text = f'#{id}'\n",
    "        if not self.CURRENT_ANNOATAION_FLAGS['id']  and self.CURRENT_ANNOATAION_FLAGS['class']:\n",
    "            text = f'{label}'\n",
    "        \n",
    "        \n",
    "        text_width, text_height = cv2.getTextSize(text, cv2.FONT_HERSHEY_SIMPLEX, 0.7, thickness)[0]\n",
    "        text_x = x + 10\n",
    "        text_y = y - 10\n",
    "\n",
    "        text_background_x1 = x\n",
    "        text_background_y1 = y - 2 * 10 - text_height\n",
    "\n",
    "        text_background_x2 = x + 2 * 10 + text_width\n",
    "        text_background_y2 = y\n",
    "        cv2.rectangle(\n",
    "        img=image,\n",
    "        pt1=(text_background_x1, text_background_y1),\n",
    "        pt2=(text_background_x2, text_background_y2),\n",
    "        color=color,\n",
    "        thickness=cv2.FILLED,\n",
    "        )\n",
    "        cv2.putText(\n",
    "        img=image,\n",
    "        text=text,\n",
    "        org=(text_x, text_y),\n",
    "        fontFace=cv2.FONT_HERSHEY_SIMPLEX,\n",
    "        fontScale=0.7,\n",
    "        color=(0, 0, 0),\n",
    "        thickness=thickness,\n",
    "        lineType=cv2.LINE_AA,\n",
    "        )    \n",
    "        \n",
    "\n",
    "        \n",
    "    # there is no bbox but there is id or class\n",
    "    if (not self.CURRENT_ANNOATAION_FLAGS['bbox']) and (self.CURRENT_ANNOATAION_FLAGS['id'] or self.CURRENT_ANNOATAION_FLAGS['class']):\n",
    "        image = cv2.line(image, (x+int(w/2), y + int(h/2)), (x + 50, y - 12), color, thickness+1)\n",
    "\n",
    "        \n",
    "    return image\n",
    "\n",
    "def draw_bb_on_image(self ,image, shapes):\n",
    "\n",
    "\n",
    "    img = self.convert_QI_to_cv(image)\n",
    "\n",
    "    for shape in shapes:\n",
    "        id = shape[\"group_id\"]\n",
    "        label = shape[\"label\"]\n",
    "        \n",
    "        # color calculation\n",
    "        idx = coco_classes.index(label)\n",
    "        idx = idx % len(color_palette)\n",
    "        color = color_palette[idx]\n",
    "        \n",
    "        (x1, y1 , x2, y2) = shape[\"bbox\"]\n",
    "        x, y , w, h = int(x1), int(y1), int(x2 - x1), int(y2 - y1)\n",
    "        img = self.draw_bb_id(img, x, y , w, h, id,label, color, thickness = 1)\n",
    "\n",
    "    qimage = self.convert_cv_to_qt(img)\n",
    "    return qimage\n",
    "\n"
   ]
  },
  {
   "cell_type": "code",
   "execution_count": 17,
   "metadata": {},
   "outputs": [],
   "source": [
    "image = QtGui.QImage('test_img_1.jpg')\n",
    "detectionData = [(50, 50, 200, 200, 11), (200, 200, 400, 400, 12), (400, 400, 600, 600, 13)]\n",
    "image = draw_bb_on_image(image, detectionData)\n"
   ]
  },
  {
   "cell_type": "code",
   "execution_count": 24,
   "metadata": {},
   "outputs": [],
   "source": [
    "dict = {'group_id': 1, 'label': 'person', 'bbox': (50, 50, 200, 200)}\n",
    "try:\n",
    "    x = dict['x']\n",
    "except:\n",
    "    dict['x'] = [1,2,3]\n",
    "    x = None"
   ]
  },
  {
   "cell_type": "code",
   "execution_count": 25,
   "metadata": {},
   "outputs": [
    {
     "data": {
      "text/plain": [
       "{'group_id': 1, 'label': 'person', 'bbox': (50, 50, 200, 200), 'x': [1, 2, 3]}"
      ]
     },
     "execution_count": 25,
     "metadata": {},
     "output_type": "execute_result"
    }
   ],
   "source": [
    "dict"
   ]
  },
  {
   "cell_type": "code",
   "execution_count": null,
   "metadata": {},
   "outputs": [],
   "source": [
    "for i in range(1, len(pts)):\n",
    "    \t\t# if either of the tracked points are None, ignore\n",
    "\t\t# them\n",
    "\t\tif pts[i - 1] is None or pts[i] is None:\n",
    "\t\t\tcontinue\n",
    " \n",
    "\t\t# otherwise, compute the thickness of the line and\n",
    "\t\t# draw the connecting lines\n",
    "\t\tthickness = int(np.sqrt(args[\"buffer\"] / float(i + 1)) * 2.5)\n",
    "\t\tcv2.line(frame, pts[i - 1], pts[i], (0, 0, 255), thickness)"
   ]
  },
  {
   "cell_type": "code",
   "execution_count": null,
   "metadata": {},
   "outputs": [],
   "source": []
  },
  {
   "cell_type": "code",
   "execution_count": null,
   "metadata": {},
   "outputs": [],
   "source": []
  },
  {
   "cell_type": "code",
   "execution_count": null,
   "metadata": {},
   "outputs": [],
   "source": [
    "from PyQt5 import QtGui\n",
    "from PyQt5.QtWidgets import QApplication, QMainWindow\n",
    "import sys\n",
    "from PyQt5.QtGui import QBrush, QPen,QPainter, QPolygon\n",
    "from PyQt5.QtCore import QPoint, Qt\n",
    "\n",
    "def draw_bb_on_image(image, x, y , w, h, id, color=(0, 0, 255), thickness=2):\n",
    "    painter = QPainter()\n",
    "    painter.setPen(QPen(Qt.black, 5, Qt.SolidLine))\n",
    "    #painter.setBrush(QBrush(Qt.red, Qt.SolidPattern))\n",
    "    painter.setBrush(QBrush(Qt.red, Qt.VerPattern))\n",
    "    points_bb = QPolygon([\n",
    "                QPoint(x, y),\n",
    "                QPoint(x, y + h),\n",
    "                QPoint(x + h, y),\n",
    "                QPoint(x + h, y + h)\n",
    "            ])\n",
    "    points_id = QPolygon([\n",
    "                QPoint(x, y - 25),\n",
    "                QPoint(x, y),\n",
    "                QPoint(x + 100, y - 25),\n",
    "                QPoint(x + 100, y)\n",
    "            ])\n",
    "    painter.drawPolygon(points_bb)\n",
    "    painter.drawPolygon(points_id)\n",
    "    "
   ]
  }
 ],
 "metadata": {
  "kernelspec": {
   "display_name": "auto_annotate",
   "language": "python",
   "name": "python3"
  },
  "language_info": {
   "codemirror_mode": {
    "name": "ipython",
    "version": 3
   },
   "file_extension": ".py",
   "mimetype": "text/x-python",
   "name": "python",
   "nbconvert_exporter": "python",
   "pygments_lexer": "ipython3",
   "version": "3.8.16"
  },
  "orig_nbformat": 4
 },
 "nbformat": 4,
 "nbformat_minor": 2
}
