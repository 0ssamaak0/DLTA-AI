{
 "cells": [
  {
   "cell_type": "code",
   "execution_count": null,
   "metadata": {},
   "outputs": [],
   "source": [
    "self.CURRENT_ANNOATAION_FLAGS = {\"traj\" : False  ,\n",
    "                                        \"bbox\" : True  ,         \n",
    "                                        \"id\" : True ,\n",
    "                                        \"class\" : True,\n",
    "                                        \"mask\" : True,\n",
    "                                        \"polygons\" : True}\n",
    "self.CURRENT_ANNOATAION_TRAJECTORIES = {}\n",
    "\n",
    "\n",
    "\n",
    "def openVideo(self):\n",
    "        self.CURRENT_ANNOATAION_TRAJECTORIES = {}\n",
    "        \n",
    "        \n",
    "        \n",
    "        \n",
    "        \n",
    "self.traj_checkBox.setChecked(False)\n",
    "\n",
    "\n",
    "\n",
    "\n",
    "\n",
    "\n",
    "def draw_trajectories(self ,img, shapes):\n",
    "    for shape in shapes:\n",
    "        id = shape[\"group_id\"]\n",
    "        pts = self.CURRENT_ANNOATAION_TRAJECTORIES['id_'+str(id)]\n",
    "        color = self.CURRENT_ANNOATAION_TRAJECTORIES['id_color_'+str(id)]\n",
    "        for i in range(1, len(pts)):\n",
    "            thickness = 2\n",
    "            thickness = int(np.sqrt(30 / float(i + 1)) * 2)\n",
    "            if pts[i - 1] is None or pts[i] is None:\n",
    "                continue\n",
    "            cv2.line(img, pts[i - 1], pts[i], color, thickness)\n",
    "                    \n",
    "    return img\n",
    "    \n",
    "    \n",
    "    \n",
    "    \n",
    "    \n",
    "            if self.CURRENT_ANNOATAION_FLAGS['traj']:   \n",
    "                center = ( int((x1 + x2) / 2), int((y1 + y2) / 2) )\n",
    "                try:\n",
    "                    self.CURRENT_ANNOATAION_TRAJECTORIES['id_'+str(id)].appendleft(center)\n",
    "                except:\n",
    "                    self.CURRENT_ANNOATAION_TRAJECTORIES['id_'+str(id)] = collections.deque(maxlen = 30)\n",
    "                    self.CURRENT_ANNOATAION_TRAJECTORIES['id_'+str(id)].appendleft(center)\n",
    "                    self.CURRENT_ANNOATAION_TRAJECTORIES['id_color_'+str(id)] = color\n",
    "        \n",
    "        if self.CURRENT_ANNOATAION_FLAGS['traj']:   \n",
    "            img = self.draw_trajectories(img, shapes)\n",
    "        \n",
    "        qimage = self.convert_cv_to_qt(img, )\n",
    "        return qimage\n",
    "    \n",
    "\n"
   ]
  },
  {
   "cell_type": "code",
   "execution_count": null,
   "metadata": {},
   "outputs": [],
   "source": []
  },
  {
   "cell_type": "code",
   "execution_count": null,
   "metadata": {},
   "outputs": [],
   "source": [
    "def draw_trajectories(self ,img, shapes):\n",
    "        for shape in shapes:\n",
    "            id = shape[\"group_id\"]\n",
    "            pts = self.CURRENT_ANNOATAION_TRAJECTORIES['id_'+str(id)]\n",
    "            color = self.CURRENT_ANNOATAION_TRAJECTORIES['id_color_'+str(id)]\n",
    "            for i in range(1, len(pts)):\n",
    "                thickness = 2\n",
    "                thickness = int(np.sqrt(30 / float(i + 1)) * 2)\n",
    "                if pts[i - 1] is None or pts[i] is None:\n",
    "                    continue\n",
    "                cv2.line(img, pts[i - 1], pts[i], color, thickness)\n",
    "                    \n",
    "        return img\n",
    "    \n",
    "    \n",
    "    \n",
    "    \n",
    "    \n",
    "    \n",
    "    \n",
    "    if self.CURRENT_ANNOATAION_FLAGS['traj']:   \n",
    "                center = ( int((x1 + x2) / 2), int((y1 + y2) / 2) )\n",
    "                try:\n",
    "                    self.CURRENT_ANNOATAION_TRAJECTORIES['id_'+str(id)].appendleft(center)\n",
    "                except:\n",
    "                    self.CURRENT_ANNOATAION_TRAJECTORIES['id_'+str(id)] = collections.deque(maxlen = 30)\n",
    "                    self.CURRENT_ANNOATAION_TRAJECTORIES['id_'+str(id)].appendleft(center)\n",
    "                    self.CURRENT_ANNOATAION_TRAJECTORIES['id_color_'+str(id)] = color"
   ]
  },
  {
   "cell_type": "code",
   "execution_count": null,
   "metadata": {},
   "outputs": [],
   "source": []
  },
  {
   "cell_type": "code",
   "execution_count": 23,
   "metadata": {},
   "outputs": [
    {
     "data": {
      "text/plain": [
       "{'id_5': [(5, -2), (-1, -1), (-1, -1), (-1, -1), (-1, -1), (5, -2), (5, -2)]}"
      ]
     },
     "execution_count": 23,
     "metadata": {},
     "output_type": "execute_result"
    }
   ],
   "source": [
    "x = {}\n",
    "y = 7.5\n",
    "id = '5'\n",
    "center = (5, -2)\n",
    "\n",
    "x['id_'+str(id)] = [(-1, - 1)] * int(y)\n",
    "x['id_'+str(id)][1 - 1] = center\n",
    "x['id_'+str(id)][7 - 1] = center\n",
    "x['id_'+str(id)][6 - 1] = center\n",
    "x"
   ]
  },
  {
   "cell_type": "code",
   "execution_count": 24,
   "metadata": {},
   "outputs": [
    {
     "name": "stdout",
     "output_type": "stream",
     "text": [
      "[(5, -2), (-1, -1), (-1, -1), (-1, -1), (-1, -1), (5, -2), (5, -2)]\n",
      "6\n",
      "5\n",
      "4\n"
     ]
    }
   ],
   "source": [
    "pts = x['id_'+str(id)][max(7 - 30, 0) : 7] \n",
    "print(pts)\n",
    "for i in range(len(pts) - 1, 0, - 1):\n",
    "    print(i)\n",
    "    if pts[i - 1] is None or pts[i] is None :\n",
    "        print('here') \n",
    "    if pts[i]==(-1, - 1) :\n",
    "        break"
   ]
  },
  {
   "cell_type": "code",
   "execution_count": 17,
   "metadata": {},
   "outputs": [
    {
     "name": "stdout",
     "output_type": "stream",
     "text": [
      "[[ 1  2]\n",
      " [ 3  4]\n",
      " [ 5  6]\n",
      " [ 7  8]\n",
      " [ 2  3]\n",
      " [ 4  5]\n",
      " [ 6  7]\n",
      " [ 8  9]\n",
      " [-1 -2]]\n"
     ]
    }
   ],
   "source": [
    "import numpy as np\n",
    "p = [1, 2, 3, 4, 5, 6, 7, 8, 2, 3, 4, 5, 6, 7, 8, 9, -1, -2]\n",
    "points =np.array( [ [x, y] for x, y in zip(p[0::2], p[1::2]) ])\n",
    "print(points)"
   ]
  },
  {
   "cell_type": "code",
   "execution_count": 21,
   "metadata": {},
   "outputs": [
    {
     "data": {
      "text/plain": [
       "(0, 229, 0)"
      ]
     },
     "execution_count": 21,
     "metadata": {},
     "output_type": "execute_result"
    }
   ],
   "source": [
    "color = (0, 255, 0)\n",
    "color = tuple(int(0.9 * x) for x in color)\n",
    "color"
   ]
  },
  {
   "cell_type": "code",
   "execution_count": null,
   "metadata": {},
   "outputs": [],
   "source": []
  },
  {
   "cell_type": "code",
   "execution_count": null,
   "metadata": {},
   "outputs": [],
   "source": []
  },
  {
   "cell_type": "code",
   "execution_count": null,
   "metadata": {},
   "outputs": [],
   "source": []
  },
  {
   "cell_type": "code",
   "execution_count": null,
   "metadata": {},
   "outputs": [],
   "source": []
  },
  {
   "cell_type": "code",
   "execution_count": null,
   "metadata": {},
   "outputs": [],
   "source": []
  },
  {
   "cell_type": "code",
   "execution_count": 16,
   "metadata": {},
   "outputs": [],
   "source": [
    "from PyQt5 import QtGui, QtWidgets\n",
    "from PyQt5.QtWidgets import QFileDialog\n",
    "from PyQt5.QtWidgets import QApplication\n",
    "import csv\n",
    "from collections import namedtuple\n",
    "import sys\n",
    "import cv2\n",
    "import numpy as np\n",
    "\n",
    "\n",
    "def convert_QI_to_cv(self , incomingImage):\n",
    "    '''  Converts a QImage into an opencv MAT format  '''\n",
    "\n",
    "    incomingImage = incomingImage.convertToFormat(4)\n",
    "\n",
    "    width = incomingImage.width()\n",
    "    height = incomingImage.height()\n",
    "\n",
    "    ptr = incomingImage.bits()\n",
    "    ptr.setsize(incomingImage.byteCount())\n",
    "    arr = np.array(ptr).reshape(height, width, 4)  #  Copies the data\n",
    "    return arr\n",
    "\n",
    "def convert_cv_to_qt(self ,cv_img):\n",
    "    rgb_image = cv2.cvtColor(cv_img, cv2.COLOR_BGR2RGB)\n",
    "    h, w, ch = rgb_image.shape\n",
    "    bytes_per_line = ch * w\n",
    "    convert_to_Qt_format = QtGui.QImage(rgb_image.data, w, h, bytes_per_line, QtGui.QImage.Format_RGB888)\n",
    "    return convert_to_Qt_format\n",
    "\n",
    "def draw_bb_id(self ,image, x, y , w, h, id,label, color=(0, 0, 255), thickness=1):\n",
    "    if self.CURRENT_ANNOATAION_FLAGS['bbox']:\n",
    "        image = cv2.rectangle(image, (x, y), (x+w, y+h), color, thickness)\n",
    "        \n",
    "        \n",
    "    if self.CURRENT_ANNOATAION_FLAGS['id']  or self.CURRENT_ANNOATAION_FLAGS['class']:\n",
    "        if self.CURRENT_ANNOATAION_FLAGS['id']  and self.CURRENT_ANNOATAION_FLAGS['class']:\n",
    "            text = f'#{id} {label}'\n",
    "        if self.CURRENT_ANNOATAION_FLAGS['id']  and not self.CURRENT_ANNOATAION_FLAGS['class']:\n",
    "            text = f'#{id}'\n",
    "        if not self.CURRENT_ANNOATAION_FLAGS['id']  and self.CURRENT_ANNOATAION_FLAGS['class']:\n",
    "            text = f'{label}'\n",
    "        \n",
    "        \n",
    "        text_width, text_height = cv2.getTextSize(text, cv2.FONT_HERSHEY_SIMPLEX, 0.7, thickness)[0]\n",
    "        text_x = x + 10\n",
    "        text_y = y - 10\n",
    "\n",
    "        text_background_x1 = x\n",
    "        text_background_y1 = y - 2 * 10 - text_height\n",
    "\n",
    "        text_background_x2 = x + 2 * 10 + text_width\n",
    "        text_background_y2 = y\n",
    "        cv2.rectangle(\n",
    "        img=image,\n",
    "        pt1=(text_background_x1, text_background_y1),\n",
    "        pt2=(text_background_x2, text_background_y2),\n",
    "        color=color,\n",
    "        thickness=cv2.FILLED,\n",
    "        )\n",
    "        cv2.putText(\n",
    "        img=image,\n",
    "        text=text,\n",
    "        org=(text_x, text_y),\n",
    "        fontFace=cv2.FONT_HERSHEY_SIMPLEX,\n",
    "        fontScale=0.7,\n",
    "        color=(0, 0, 0),\n",
    "        thickness=thickness,\n",
    "        lineType=cv2.LINE_AA,\n",
    "        )    \n",
    "        \n",
    "\n",
    "        \n",
    "    # there is no bbox but there is id or class\n",
    "    if (not self.CURRENT_ANNOATAION_FLAGS['bbox']) and (self.CURRENT_ANNOATAION_FLAGS['id'] or self.CURRENT_ANNOATAION_FLAGS['class']):\n",
    "        image = cv2.line(image, (x+int(w/2), y + int(h/2)), (x + 50, y - 12), color, thickness+1)\n",
    "\n",
    "        \n",
    "    return image\n",
    "\n",
    "def draw_bb_on_image(self ,image, shapes):\n",
    "\n",
    "\n",
    "    img = self.convert_QI_to_cv(image)\n",
    "\n",
    "    for shape in shapes:\n",
    "        id = shape[\"group_id\"]\n",
    "        label = shape[\"label\"]\n",
    "        \n",
    "        # color calculation\n",
    "        idx = coco_classes.index(label)\n",
    "        idx = idx % len(color_palette)\n",
    "        color = color_palette[idx]\n",
    "        \n",
    "        (x1, y1 , x2, y2) = shape[\"bbox\"]\n",
    "        x, y , w, h = int(x1), int(y1), int(x2 - x1), int(y2 - y1)\n",
    "        img = self.draw_bb_id(img, x, y , w, h, id,label, color, thickness = 1)\n",
    "\n",
    "    qimage = self.convert_cv_to_qt(img)\n",
    "    return qimage\n",
    "\n"
   ]
  },
  {
   "cell_type": "code",
   "execution_count": 17,
   "metadata": {},
   "outputs": [],
   "source": [
    "image = QtGui.QImage('test_img_1.jpg')\n",
    "detectionData = [(50, 50, 200, 200, 11), (200, 200, 400, 400, 12), (400, 400, 600, 600, 13)]\n",
    "image = draw_bb_on_image(image, detectionData)\n"
   ]
  },
  {
   "cell_type": "code",
   "execution_count": 24,
   "metadata": {},
   "outputs": [],
   "source": [
    "dict = {'group_id': 1, 'label': 'person', 'bbox': (50, 50, 200, 200)}\n",
    "try:\n",
    "    x = dict['x']\n",
    "except:\n",
    "    dict['x'] = [1,2,3]\n",
    "    x = None"
   ]
  },
  {
   "cell_type": "code",
   "execution_count": 25,
   "metadata": {},
   "outputs": [
    {
     "data": {
      "text/plain": [
       "{'group_id': 1, 'label': 'person', 'bbox': (50, 50, 200, 200), 'x': [1, 2, 3]}"
      ]
     },
     "execution_count": 25,
     "metadata": {},
     "output_type": "execute_result"
    }
   ],
   "source": [
    "dict"
   ]
  },
  {
   "cell_type": "code",
   "execution_count": null,
   "metadata": {},
   "outputs": [],
   "source": [
    "for i in range(1, len(pts)):\n",
    "    \t\t# if either of the tracked points are None, ignore\n",
    "\t\t# them\n",
    "\t\tif pts[i - 1] is None or pts[i] is None:\n",
    "\t\t\tcontinue\n",
    " \n",
    "\t\t# otherwise, compute the thickness of the line and\n",
    "\t\t# draw the connecting lines\n",
    "\t\tthickness = int(np.sqrt(args[\"buffer\"] / float(i + 1)) * 2.5)\n",
    "\t\tcv2.line(frame, pts[i - 1], pts[i], (0, 0, 255), thickness)"
   ]
  },
  {
   "cell_type": "code",
   "execution_count": null,
   "metadata": {},
   "outputs": [],
   "source": []
  },
  {
   "cell_type": "code",
   "execution_count": null,
   "metadata": {},
   "outputs": [],
   "source": []
  },
  {
   "cell_type": "code",
   "execution_count": null,
   "metadata": {},
   "outputs": [],
   "source": [
    "from PyQt5 import QtGui\n",
    "from PyQt5.QtWidgets import QApplication, QMainWindow\n",
    "import sys\n",
    "from PyQt5.QtGui import QBrush, QPen,QPainter, QPolygon\n",
    "from PyQt5.QtCore import QPoint, Qt\n",
    "\n",
    "def draw_bb_on_image(image, x, y , w, h, id, color=(0, 0, 255), thickness=2):\n",
    "    painter = QPainter()\n",
    "    painter.setPen(QPen(Qt.black, 5, Qt.SolidLine))\n",
    "    #painter.setBrush(QBrush(Qt.red, Qt.SolidPattern))\n",
    "    painter.setBrush(QBrush(Qt.red, Qt.VerPattern))\n",
    "    points_bb = QPolygon([\n",
    "                QPoint(x, y),\n",
    "                QPoint(x, y + h),\n",
    "                QPoint(x + h, y),\n",
    "                QPoint(x + h, y + h)\n",
    "            ])\n",
    "    points_id = QPolygon([\n",
    "                QPoint(x, y - 25),\n",
    "                QPoint(x, y),\n",
    "                QPoint(x + 100, y - 25),\n",
    "                QPoint(x + 100, y)\n",
    "            ])\n",
    "    painter.drawPolygon(points_bb)\n",
    "    painter.drawPolygon(points_id)\n",
    "    "
   ]
  }
 ],
 "metadata": {
  "kernelspec": {
   "display_name": "auto_annotate",
   "language": "python",
   "name": "python3"
  },
  "language_info": {
   "codemirror_mode": {
    "name": "ipython",
    "version": 3
   },
   "file_extension": ".py",
   "mimetype": "text/x-python",
   "name": "python",
   "nbconvert_exporter": "python",
   "pygments_lexer": "ipython3",
   "version": "3.8.8"
  },
  "orig_nbformat": 4
 },
 "nbformat": 4,
 "nbformat_minor": 2
}
