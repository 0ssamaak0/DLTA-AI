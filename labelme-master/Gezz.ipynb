{
 "cells": [
  {
   "cell_type": "code",
   "execution_count": null,
   "metadata": {
    "vscode": {
     "languageId": "plaintext"
    }
   },
   "outputs": [],
   "source": [
    "3835\n",
    "# SAM tool bar\n",
    "\n",
    "self.Segment_anything()\n",
    "self.Segment_anything()\n",
    "\n",
    "\n",
    "\n",
    "\n",
    "3242, 3250, 3258\n",
    "try:\n",
    "    same_image = self.sam_predictor.check_image(self.CURRENT_FRAME_IMAGE)\n",
    "except:\n",
    "    return"
   ]
  }
 ],
 "metadata": {
  "kernelspec": {
   "display_name": "auto_annotate",
   "language": "python",
   "name": "python3"
  },
  "language_info": {
   "codemirror_mode": {
    "name": "ipython",
    "version": 3
   },
   "file_extension": ".py",
   "mimetype": "text/x-python",
   "name": "python",
   "nbconvert_exporter": "python",
   "pygments_lexer": "ipython3",
   "version": "3.8.16"
  },
  "orig_nbformat": 4
 },
 "nbformat": 4,
 "nbformat_minor": 2
}
