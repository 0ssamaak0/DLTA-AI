{
 "cells": [
  {
   "cell_type": "code",
   "execution_count": null,
   "metadata": {},
   "outputs": [],
   "source": [
    "def load_objects_from_json__ujson(self):\n",
    "        start_time = time.time()\n",
    "        listObj = [{'frame_idx': i + 1, 'frame_data': []}\n",
    "                    for i in range(self.TOTAL_VIDEO_FRAMES)]\n",
    "        json_file_name = f'{self.CURRENT_VIDEO_PATH}/{self.CURRENT_VIDEO_NAME}_tracking_results.json'\n",
    "        if not os.path.exists(json_file_name):\n",
    "            with open(json_file_name, 'w') as jf:\n",
    "                ujson.dump(listObj, jf,\n",
    "                            indent=4,\n",
    "                            separators=(',', ': '))\n",
    "            jf.close()\n",
    "        with open(json_file_name, 'r') as jf:\n",
    "            listObj = ujson.load(jf)\n",
    "        jf.close()\n",
    "        end_time = time.time()\n",
    "        print(f\"Time taken to load json with (ujson)library is : {int((end_time - start_time)*1000)} ms\" + \"\\n\")\n",
    "        return listObj\n",
    "\n",
    "def load_objects_to_json__ujson(self, listObj):\n",
    "    start_time = time.time()\n",
    "    json_file_name = f'{self.CURRENT_VIDEO_PATH}/{self.CURRENT_VIDEO_NAME}_tracking_results.json'\n",
    "    with open(json_file_name, 'w') as jf:\n",
    "        ujson.dump(listObj, jf,\n",
    "                    indent=4,\n",
    "                    separators=(',', ': '))\n",
    "    jf.close()\n",
    "    end_time = time.time()\n",
    "    print(f\"Time taken to write json with (ujson)library is : {int((end_time - start_time)*1000)} ms\" + \"\\n\")\n",
    "\n",
    "def load_objects_from_json__rapidjson(self):\n",
    "    start_time = time.time()\n",
    "    listObj = [{'frame_idx': i + 1, 'frame_data': []}\n",
    "                for i in range(self.TOTAL_VIDEO_FRAMES)]\n",
    "    json_file_name = f'{self.CURRENT_VIDEO_PATH}/{self.CURRENT_VIDEO_NAME}_tracking_results.json'\n",
    "    if not os.path.exists(json_file_name):\n",
    "        with open(json_file_name, 'w') as jf:\n",
    "            rapidjson.dump(listObj, jf,\n",
    "                        indent=4,\n",
    "                        separators=(',', ': '))\n",
    "        jf.close()\n",
    "    with open(json_file_name, 'r') as jf:\n",
    "        listObj = rapidjson.load(jf)\n",
    "    jf.close()\n",
    "    end_time = time.time()\n",
    "    print(f\"Time taken to load json with (rapidjson)library is : {int((end_time - start_time)*1000)} ms\" + \"\\n\")\n",
    "    return listObj\n",
    "\n",
    "def load_objects_to_json__rapidjson(self, listObj):\n",
    "    start_time = time.time()\n",
    "    json_file_name = f'{self.CURRENT_VIDEO_PATH}/{self.CURRENT_VIDEO_NAME}_tracking_results.json'\n",
    "    with open(json_file_name, 'w') as jf:\n",
    "        rapidjson.dump(listObj, jf,\n",
    "                    indent=4,\n",
    "                    separators=(',', ': '))\n",
    "    jf.close()\n",
    "    end_time = time.time()\n",
    "    print(f\"Time taken to write json with (rapidjson)library is : {int((end_time - start_time)*1000)} ms\" + \"\\n\")\n",
    "    \n",
    "def load_objects_from_json__msgspec(self):\n",
    "    start_time = time.time()\n",
    "    listObj = [{'frame_idx': i + 1, 'frame_data': []}\n",
    "                for i in range(self.TOTAL_VIDEO_FRAMES)]\n",
    "    json_file_name = f'{self.CURRENT_VIDEO_PATH}/{self.CURRENT_VIDEO_NAME}_tracking_results.json'\n",
    "    if not os.path.exists(json_file_name):\n",
    "        with open(json_file_name, 'w') as jf:\n",
    "            jf.write(msgspec.json.encode(listObj))\n",
    "        jf.close()\n",
    "    with open(json_file_name, 'r') as jf:\n",
    "        listObj = msgspec.json.decode(jf.read())\n",
    "    jf.close()\n",
    "    end_time = time.time()\n",
    "    print(f\"Time taken to load json with (msgspec)library is : {int((end_time - start_time)*1000)} ms\" + \"\\n\")\n",
    "    return listObj\n",
    "\n",
    "def load_objects_to_json__msgspec(self, listObj):\n",
    "    start_time = time.time()\n",
    "    json_file_name = f'{self.CURRENT_VIDEO_PATH}/{self.CURRENT_VIDEO_NAME}_tracking_results.json'\n",
    "    with open(json_file_name, 'w') as jf:\n",
    "        jf.write(str(msgspec.json.encode(listObj)))\n",
    "    jf.close()\n",
    "    end_time = time.time()\n",
    "    print(f\"Time taken to write json with (msgspec)library is : {int((end_time - start_time)*1000)} ms\" + \"\\n\")\n",
    "    \n",
    "def RUNALLJSONS(self):\n",
    "        \n",
    "        print(\"\\n\\nRUNNING ALL JSONS\\n\")\n",
    "        listObj = self.load_objects_from_json__json()\n",
    "        self.load_objects_from_json__orjson()\n",
    "        self.load_objects_from_json__ujson()\n",
    "        self.load_objects_from_json__msgspec()\n",
    "        self.load_objects_from_json__rapidjson()\n",
    "        \n",
    "        print(\"\\n\\nRUNNING ALL JSONS\\n\")\n",
    "        self.load_objects_to_json__json(listObj)\n",
    "        self.load_objects_to_json__orjson(listObj)\n",
    "        self.load_objects_to_json__ujson(listObj)\n",
    "        #self.load_objects_to_json__msgspec(listObj)\n",
    "        #self.load_objects_to_json__rapidjson(listObj)\n",
    "        "
   ]
  },
  {
   "cell_type": "code",
   "execution_count": 14,
   "metadata": {},
   "outputs": [
    {
     "name": "stdout",
     "output_type": "stream",
     "text": [
      "[1, 22, 322, 4222, 522222]\n"
     ]
    }
   ],
   "source": [
    "dictObj = {'id_1' : [1,2,3,4,5,6,7,8,9,10],\n",
    "              'id_22' : [11,12,13,14,15,16,17,18,19,20],\n",
    "                'id_322' : [21,22,23,24,25,26,27,28,29,30],\n",
    "                    'id_4222' : [31,32,33,34,35,36,37,38,39,40],\n",
    "                        'id_522222' : [41,42,43,44,45,46,47,48,49,50],}\n",
    "keys = list(dictObj.keys())\n",
    "ids = [int(keys[i][3:]) for i in range(len(keys))]\n",
    "print(ids)"
   ]
  },
  {
   "cell_type": "code",
   "execution_count": 17,
   "metadata": {},
   "outputs": [
    {
     "ename": "ValueError",
     "evalue": "min() arg is an empty sequence",
     "output_type": "error",
     "traceback": [
      "\u001b[1;31m---------------------------------------------------------------------------\u001b[0m",
      "\u001b[1;31mValueError\u001b[0m                                Traceback (most recent call last)",
      "\u001b[1;32m<ipython-input-17-d4b112b342cb>\u001b[0m in \u001b[0;36m<module>\u001b[1;34m\u001b[0m\n\u001b[0;32m      1\u001b[0m \u001b[0mx\u001b[0m \u001b[1;33m=\u001b[0m \u001b[0mset\u001b[0m\u001b[1;33m(\u001b[0m\u001b[1;33m)\u001b[0m\u001b[1;33m\u001b[0m\u001b[1;33m\u001b[0m\u001b[0m\n\u001b[1;32m----> 2\u001b[1;33m \u001b[0mmin\u001b[0m\u001b[1;33m(\u001b[0m\u001b[0mx\u001b[0m\u001b[1;33m)\u001b[0m\u001b[1;33m\u001b[0m\u001b[1;33m\u001b[0m\u001b[0m\n\u001b[0m",
      "\u001b[1;31mValueError\u001b[0m: min() arg is an empty sequence"
     ]
    }
   ],
   "source": [
    "x = set()\n",
    "min(x)"
   ]
  },
  {
   "cell_type": "code",
   "execution_count": null,
   "metadata": {},
   "outputs": [],
   "source": []
  }
 ],
 "metadata": {
  "kernelspec": {
   "display_name": "auto_annotate",
   "language": "python",
   "name": "python3"
  },
  "language_info": {
   "codemirror_mode": {
    "name": "ipython",
    "version": 3
   },
   "file_extension": ".py",
   "mimetype": "text/x-python",
   "name": "python",
   "nbconvert_exporter": "python",
   "pygments_lexer": "ipython3",
   "version": "3.8.16"
  },
  "orig_nbformat": 4
 },
 "nbformat": 4,
 "nbformat_minor": 2
}
