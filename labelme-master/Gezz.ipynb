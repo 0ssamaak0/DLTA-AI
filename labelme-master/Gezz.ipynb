{
 "cells": [
  {
   "cell_type": "code",
   "execution_count": 16,
   "metadata": {},
   "outputs": [],
   "source": [
    "from PyQt5 import QtGui, QtWidgets\n",
    "from PyQt5.QtWidgets import QFileDialog\n",
    "from PyQt5.QtWidgets import QApplication\n",
    "import csv\n",
    "from collections import namedtuple\n",
    "import sys\n",
    "import cv2\n",
    "import numpy as np\n",
    "\n",
    "def convert_QI_to_cv(incomingImage):\n",
    "        '''  Converts a QImage into an opencv MAT format  '''\n",
    "\n",
    "        incomingImage = incomingImage.convertToFormat(4)\n",
    "\n",
    "        width = incomingImage.width()\n",
    "        height = incomingImage.height()\n",
    "\n",
    "        ptr = incomingImage.bits()\n",
    "        ptr.setsize(incomingImage.byteCount())\n",
    "        arr = np.array(ptr).reshape(height, width, 4)  #  Copies the data\n",
    "        return arr\n",
    "\n",
    "def convert_cv_to_qt(cv_img):\n",
    "        rgb_image = cv2.cvtColor(cv_img, cv2.COLOR_BGR2RGB)\n",
    "        h, w, ch = rgb_image.shape\n",
    "        bytes_per_line = ch * w\n",
    "        convert_to_Qt_format = QtGui.QImage(rgb_image.data, w, h, bytes_per_line, QtGui.QImage.Format_RGB888)\n",
    "        return convert_to_Qt_format\n",
    "\n",
    "def draw_bb_id(image, x, y , w, h, id, color=(0, 0, 255), thickness=2):\n",
    "        img_bb = cv2.rectangle(image, (x, y), (x+w, y+h), color, thickness)\n",
    "        img_bb = cv2.rectangle(img_bb, (x, y - 25), (x + 100, y), color, -1)\n",
    "        img_bb_id = cv2.putText(img_bb, f'id = {id}', (x + 5, y - 5), cv2.FONT_HERSHEY_SIMPLEX, \n",
    "                        0.7, (255, 255, 255), thickness - 1, cv2.LINE_AA)\n",
    "        return img_bb_id\n",
    "\n",
    "def draw_bb_on_image(image, detectionData, color=(0, 0, 255), thickness=2):\n",
    "        img = convert_QI_to_cv(image)\n",
    "        \n",
    "        for x, y , w, h, id in detectionData:\n",
    "                img = draw_bb_id(img, x, y , w, h, id, color, thickness)\n",
    "        \n",
    "        qimage = convert_cv_to_qt(img)\n",
    "        return qimage"
   ]
  },
  {
   "cell_type": "code",
   "execution_count": 17,
   "metadata": {},
   "outputs": [],
   "source": [
    "image = QtGui.QImage('test_img_1.jpg')\n",
    "detectionData = [(50, 50, 200, 200, 11), (200, 200, 400, 400, 12), (400, 400, 600, 600, 13)]\n",
    "image = draw_bb_on_image(image, detectionData)\n"
   ]
  },
  {
   "cell_type": "code",
   "execution_count": null,
   "metadata": {},
   "outputs": [],
   "source": []
  },
  {
   "cell_type": "code",
   "execution_count": null,
   "metadata": {},
   "outputs": [],
   "source": []
  },
  {
   "cell_type": "code",
   "execution_count": null,
   "metadata": {},
   "outputs": [],
   "source": []
  },
  {
   "cell_type": "code",
   "execution_count": null,
   "metadata": {},
   "outputs": [],
   "source": []
  },
  {
   "cell_type": "code",
   "execution_count": null,
   "metadata": {},
   "outputs": [],
   "source": []
  },
  {
   "cell_type": "code",
   "execution_count": null,
   "metadata": {},
   "outputs": [],
   "source": [
    "from PyQt5 import QtGui\n",
    "from PyQt5.QtWidgets import QApplication, QMainWindow\n",
    "import sys\n",
    "from PyQt5.QtGui import QBrush, QPen,QPainter, QPolygon\n",
    "from PyQt5.QtCore import QPoint, Qt\n",
    "\n",
    "def draw_bb_on_image(image, x, y , w, h, id, color=(0, 0, 255), thickness=2):\n",
    "    painter = QPainter()\n",
    "    painter.setPen(QPen(Qt.black, 5, Qt.SolidLine))\n",
    "    #painter.setBrush(QBrush(Qt.red, Qt.SolidPattern))\n",
    "    painter.setBrush(QBrush(Qt.red, Qt.VerPattern))\n",
    "    points_bb = QPolygon([\n",
    "                QPoint(x, y),\n",
    "                QPoint(x, y + h),\n",
    "                QPoint(x + h, y),\n",
    "                QPoint(x + h, y + h)\n",
    "            ])\n",
    "    points_id = QPolygon([\n",
    "                QPoint(x, y - 25),\n",
    "                QPoint(x, y),\n",
    "                QPoint(x + 100, y - 25),\n",
    "                QPoint(x + 100, y)\n",
    "            ])\n",
    "    painter.drawPolygon(points_bb)\n",
    "    painter.drawPolygon(points_id)\n",
    "    "
   ]
  }
 ],
 "metadata": {
  "kernelspec": {
   "display_name": "auto_annotate",
   "language": "python",
   "name": "python3"
  },
  "language_info": {
   "codemirror_mode": {
    "name": "ipython",
    "version": 3
   },
   "file_extension": ".py",
   "mimetype": "text/x-python",
   "name": "python",
   "nbconvert_exporter": "python",
   "pygments_lexer": "ipython3",
   "version": "3.8.8"
  },
  "orig_nbformat": 4
 },
 "nbformat": 4,
 "nbformat_minor": 2
}
